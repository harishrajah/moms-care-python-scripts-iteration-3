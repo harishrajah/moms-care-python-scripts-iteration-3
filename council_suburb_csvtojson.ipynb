{
 "cells": [
  {
   "cell_type": "code",
   "execution_count": 2,
   "metadata": {},
   "outputs": [],
   "source": [
    "# importing necessary libraries\n",
    "import csv\n",
    "import json\n",
    "\n",
    "# opening csv file for read and json file to write\n",
    "csvfile = open('council_suburb_chinese.csv', 'r')\n",
    "jsonfile = open('council_suburb_chinese.json', 'w')\n",
    "\n",
    "# converting csv to json format\n",
    "fieldnames = (\"LGA name\",\"Suburbs\")\n",
    "reader = csv.DictReader(csvfile, fieldnames)\n",
    "for row in reader:\n",
    "    json.dump(row, jsonfile)\n",
    "    jsonfile.write(',\\n')"
   ]
  }
 ],
 "metadata": {
  "kernelspec": {
   "display_name": "Python 3",
   "language": "python",
   "name": "python3"
  },
  "language_info": {
   "codemirror_mode": {
    "name": "ipython",
    "version": 3
   },
   "file_extension": ".py",
   "mimetype": "text/x-python",
   "name": "python",
   "nbconvert_exporter": "python",
   "pygments_lexer": "ipython3",
   "version": "3.6.4"
  }
 },
 "nbformat": 4,
 "nbformat_minor": 2
}
